{
 "cells": [
  {
   "cell_type": "markdown",
   "id": "9edefc4c-38bf-4a40-bd85-2d51dd01010a",
   "metadata": {},
   "source": [
    "# Source"
   ]
  },
  {
   "cell_type": "markdown",
   "id": "31cecc5c-58dc-49e3-8c87-a78d613b5cc6",
   "metadata": {},
   "source": [
    "The `Source` class provides an interface and predefined methods for reading raw\n",
    "data from file. If `source.use_nexus == True` the raw data will be saved and\n",
    "read preferentially from a generated `NeXus` file, which results in a single\n",
    "data file with high compression and fast data access.\n",
    "\n",
    "The `Source` class provides a `dict()` of all scans, called `scan_dict`.\n",
    "The items in this dictionary are instances of the `Scan` class, which defines\n",
    "the common data structure. However, the access to the scan data should **NOT**\n",
    "be done via the `scan_dict` directly, but instead for a deticated scan via\n",
    "`Source.get_scan_data(scan_number)` or for a list of scans via\n",
    "`Source.get_scan_list_data(scan_number_list)`. By this, all features of the\n",
    "`Source` class can be utilized.\n",
    "\n",
    "One key concept of the `pyEvalData` is the idea, that `Scan` instances must\n",
    "only provide the meta information of the scan but not necessarily its data.\n",
    "By default, the scan data will only be read on request and is then stored in\n",
    "the `Scan` object for later use. It is possible, however, to read all data\n",
    "to each scan directly on first parsing by `Source.read_all_data = Ture`.\n",
    "On the other hand, if the data is allocating too much memory, it is possible\n",
    "to clear the data from the `Scan` object, directly after accessing it, via\n",
    "`Source.read_and_forget = True`. The flag `Source.update_before_read` enables\n",
    "parsing the raw source file to search and add new scans before accessing any\n",
    "other scans. By default the last `Scan` in the `scan_dict` will always be\n",
    "re-created in case new data was added. The flag `Source.force_overwrite` will\n",
    "force a full parsing of the raw source file and a complete overwrite of the\n",
    "`NeXus` file on every `update()`.  \n",
    "With these set of parameters the user is very flexible in how and if the raw\n",
    "data is read and stored and can adapt the `Source` behaviour for different\n",
    "situations such as *on-line* anaylsis during a beamtime or *post* analysis\n",
    "later at home.\n",
    "\n",
    "The following examples are meant for introducing the low-level access to raw\n",
    "data via the `Source` layer. This can be helpful for direct access to raw data\n",
    "and integration into existing scripts and applications.  \n",
    "However, user will generally access the `Source` via the `Evaluation` class\n",
    "as described in the [upcoming examples](./evaluation)."
   ]
  },
  {
   "cell_type": "markdown",
   "id": "e96983ba-66d5-46d5-8620-38d9a929f961",
   "metadata": {
    "tags": []
   },
   "source": [
    "## Setup\n",
    "\n",
    "Here we do the necessary import for this example"
   ]
  },
  {
   "cell_type": "code",
   "execution_count": null,
   "id": "ab69a1d7-6d05-42fd-906a-ed4f4bc6c0f4",
   "metadata": {},
   "outputs": [],
   "source": [
    "import matplotlib.pyplot as plt\n",
    "import numpy as np\n",
    "\n",
    "import pyEvalData as ped\n",
    "# define the path for the example data\n",
    "example_data_path = '../../../example_data/'"
   ]
  },
  {
   "cell_type": "markdown",
   "id": "e4f761d7-92f0-4c38-ae3f-e05b9fc7a276",
   "metadata": {
    "tags": []
   },
   "source": [
    "## SPEC\n",
    "\n",
    "A very common data source are SPEC files from the original\n",
    "[Certif spec application](https://certif.com/content/spec/) as well as from the\n",
    "open-source alternative [Sardana](https://sardana-controls.org).\n",
    "The `Spec` source relies on the great parser provided by\n",
    "[xrayutilities](https://xrayutilities.sourceforge.io)."
   ]
  },
  {
   "cell_type": "code",
   "execution_count": null,
   "id": "20aa88a2-fb7a-422a-94f5-332a881147d6",
   "metadata": {},
   "outputs": [],
   "source": [
    "spec = ped.io.Spec(file_name='certif_xu.spec',\n",
    "                   file_path=example_data_path,\n",
    "                   use_nexus=True,\n",
    "                   force_overwrite=False,\n",
    "                   update_before_read=False,\n",
    "                   read_and_forget=True,\n",
    "                   nexus_file_path='./')"
   ]
  },
  {
   "cell_type": "markdown",
   "id": "416c3bb8-4765-493b-8510-72d633f04d16",
   "metadata": {},
   "source": [
    "As described above, the scan data and meta information should be accessed via\n",
    "`spec.get_scan_data(scan_number)`.  \n",
    "Here, `data` is returned as `numpy.recarray` and `meta` is a `dict()`."
   ]
  },
  {
   "cell_type": "code",
   "execution_count": null,
   "id": "97dd6950-308e-483d-9917-cffa63a8b060",
   "metadata": {},
   "outputs": [],
   "source": [
    "data, meta = spec.get_scan_data(33)\n",
    "\n",
    "plt.figure()\n",
    "plt.imshow(np.log10(data['MCA']))\n",
    "plt.title(meta['cmd'])\n",
    "plt.show()"
   ]
  },
  {
   "cell_type": "markdown",
   "id": "23a9075a-6dbb-4881-8dd4-0b23a6c3da28",
   "metadata": {},
   "source": [
    "One can also directly work with the `Scan` objects, which provides nearly the\n",
    "same functionality as above but misses to automatically `read_and_forget` the\n",
    "data. Below, the example from above is reproduces with the `Scan`. Here one can\n",
    "also easily access the meta information as attributes of the `Scan` instance."
   ]
  },
  {
   "cell_type": "code",
   "execution_count": null,
   "id": "cd562c04-b48a-4a2a-8e70-4cf96ef28065",
   "metadata": {},
   "outputs": [],
   "source": [
    "scan = spec.get_scan(33)\n",
    "\n",
    "plt.figure()\n",
    "plt.imshow(np.log10(scan.MCA))\n",
    "plt.title(scan.cmd)\n",
    "plt.show()"
   ]
  },
  {
   "cell_type": "markdown",
   "id": "0a1d476a-20ab-447c-9c9b-6c66120dd5d8",
   "metadata": {},
   "source": [
    "It is also possible to access the scan directly as attribute of the source which\n",
    "is fully aquivalent to the last example."
   ]
  },
  {
   "cell_type": "code",
   "execution_count": null,
   "id": "8c5096bf-d80a-457a-aaf0-6bbe8de9ba23",
   "metadata": {},
   "outputs": [],
   "source": [
    "plt.figure()\n",
    "plt.imshow(np.log10(spec.scan33.MCA))\n",
    "plt.title(spec.scan33.cmd)\n",
    "plt.show()"
   ]
  },
  {
   "cell_type": "markdown",
   "id": "dcaa0796-b937-4029-8271-5c7771ab53ac",
   "metadata": {},
   "source": [
    "## Sardana NeXus\n",
    "\n",
    "The [NeXus file format](https://www.nexusformat.org) is a common standard in\n",
    "science for storing and exchanging data. It is based on\n",
    "[hdf5](https://www.hdfgroup.org/solutions/hdf5/) files with a hierarchical\n",
    "structure. As an example we read the NeXus files as created by Sardana.\n",
    "As we can directly access the data from the NeXus files, there is no need to\n",
    "enable additional NeXus export so one can set `source.use_nexus = False`."
   ]
  },
  {
   "cell_type": "code",
   "execution_count": null,
   "id": "1ae1d4fb-fb1d-4c69-b88e-df6b0663f5a2",
   "metadata": {},
   "outputs": [],
   "source": [
    "sarnxs = ped.io.SardanaNeXus(file_name='sardana_nexus.h5',\n",
    "                             file_path=example_data_path,\n",
    "                             use_nexus=False,\n",
    "                             force_overwrite=False,\n",
    "                             update_before_read=False,\n",
    "                             read_and_forget=True)"
   ]
  },
  {
   "cell_type": "code",
   "execution_count": null,
   "id": "386e140f-3102-4794-a7f8-a50d99ff0c22",
   "metadata": {},
   "outputs": [],
   "source": [
    "plt.figure()\n",
    "plt.plot(sarnxs.scan435.mhor, sarnxs.scan435.pmPump)\n",
    "plt.show()"
   ]
  },
  {
   "cell_type": "markdown",
   "id": "3980fbba-6003-4bae-853e-e7ad0be100d4",
   "metadata": {},
   "source": [
    "## hdf5 - PAL FEL\n",
    "\n",
    "[hdf5](https://www.hdfgroup.org/solutions/hdf5/) is also a very common data\n",
    "format. In this example the raw data was measured at PAL FEL in South Korea.\n",
    "The individual files are grouped in a single folder per scan. This is handled\n",
    "by the `fprint`-statement for the `file_name` is is automatically evaluated\n",
    "to provide the correct file and folder name for a given scan number."
   ]
  },
  {
   "cell_type": "code",
   "execution_count": null,
   "id": "6722b574-47ca-4c5d-9084-d367d08e0b15",
   "metadata": {
    "tags": []
   },
   "outputs": [],
   "source": [
    "pal = ped.io.PalH5(name='2020_12_Schick',\n",
    "                   file_name='{0:07d}',\n",
    "                   file_path=example_data_path+'/pal_fel',\n",
    "                   use_nexus=False,\n",
    "                   force_overwrite=False,\n",
    "                   update_before_read=True,\n",
    "                   read_and_forget=True,\n",
    "                   nexus_file_path='./',\n",
    "                   nexus_file_name='2020_12_Schick')"
   ]
  },
  {
   "cell_type": "markdown",
   "id": "03c80df7-a34c-482b-867f-81a8c8961037",
   "metadata": {},
   "source": [
    "Again we have easy access to the raw data similar to the former examples."
   ]
  },
  {
   "cell_type": "code",
   "execution_count": null,
   "id": "f1e974df-64ac-40d2-9e11-ec65c00f3947",
   "metadata": {},
   "outputs": [],
   "source": [
    "plt.figure()\n",
    "plt.plot(pal.scan9.th, pal.scan9.digi1_1, '.')\n",
    "plt.show()"
   ]
  },
  {
   "cell_type": "markdown",
   "id": "986e7c2c-71a9-4d18-b03f-aa34d0776c26",
   "metadata": {},
   "source": [
    "## Composite Sources\n",
    "\n",
    "**idea for a future release**\n",
    "\n",
    "One specific idea of the `Source` class is to provide also composite models of\n",
    "pre-defined `Source` classes. An example is the `Spec` source for reading SPEC\n",
    "data files and a `Source` class to read camera images from a folder structure,\n",
    "that have been acquired simultaneously with the SPEC file.\n",
    "This would require to specify the two independent `Souce` objects and then add\n",
    "them to a single `CompositeSource`, e.g. by:\n",
    "```python\n",
    "spec = ped.io.Spec(file_name, file_path)\n",
    "ccd = ped.io.Pilatus(image_pattern, image_base_path)\n",
    "\n",
    "comp_source = spec + ccd\n",
    "```\n",
    "After this step the workflow is the same as with all other `Source` classes.\n",
    "The concatenation should also allow for multiple items. Special care must be\n",
    "take for duplicate `motor` and `counter` names. This would require a `prefix`\n",
    "scheme similar to the [`lmfit`](https://lmfit.github.io/lmfit-py/) package."
   ]
  }
 ],
 "metadata": {
  "kernelspec": {
   "display_name": "Python 3 (ipykernel)",
   "language": "python",
   "name": "python3"
  },
  "language_info": {
   "codemirror_mode": {
    "name": "ipython",
    "version": 3
   },
   "file_extension": ".py",
   "mimetype": "text/x-python",
   "name": "python",
   "nbconvert_exporter": "python",
   "pygments_lexer": "ipython3",
   "version": "3.8.9"
  }
 },
 "nbformat": 4,
 "nbformat_minor": 5
}
